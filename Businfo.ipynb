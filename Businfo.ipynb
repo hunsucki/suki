{
  "nbformat": 4,
  "nbformat_minor": 0,
  "metadata": {
    "colab": {
      "name": "Businfo",
      "provenance": [],
      "collapsed_sections": [],
      "authorship_tag": "ABX9TyNXGRZPn0dgv3KGE4KU/K/2",
      "include_colab_link": true
    },
    "kernelspec": {
      "name": "python3",
      "display_name": "Python 3"
    }
  },
  "cells": [
    {
      "cell_type": "markdown",
      "metadata": {
        "id": "view-in-github",
        "colab_type": "text"
      },
      "source": [
        "<a href=\"https://colab.research.google.com/github/hunsucki/suki/blob/python/Businfo.ipynb\" target=\"_parent\"><img src=\"https://colab.research.google.com/assets/colab-badge.svg\" alt=\"Open In Colab\"/></a>"
      ]
    },
    {
      "cell_type": "code",
      "metadata": {
        "id": "ISr-ATXbMAUP",
        "colab": {
          "base_uri": "https://localhost:8080/"
        },
        "outputId": "242120ad-246e-49c4-b983-4d5b9aaf8417"
      },
      "source": [
        "from bs4 import BeautifulSoup\n",
        "import requests\n",
        "import urllib.request\n",
        "import urllib.parse\n",
        "\n",
        "key = '&serviceKey=gHStf7x6cwy%2FOx6meAjMGLU6%2BpnQGv65wTGhMgPvf7cxVz5%2B664v5XhLKIeEibwfWfR8CTUqXZYYStXDkUcd2w%3D%3D'\n",
        "url = \"http://apis.data.go.kr/6260000/BusanBIMS/stopArrByBstopid?bstopid=\"\n",
        "\n",
        "bstopID = { '올림픽교차로 환승센터':185070101, '올림픽교차로 환승센터(급행)':502490000,\n",
        "            '센텀고등학교(센텀센시빌 방면)':184420103, '센텀고등학교(동해선 센텀역 방면)':184270303 \n",
        "           }\n",
        "\n",
        "bstopID_list = list(bstopID.keys())\n",
        "print(bstopID_list,'중 하나를 입력해 주세요.')\n",
        "Current_bstop = str(input())\n",
        "\n",
        "if Current_bstop not in bstopID.keys():\n",
        "  print(Current_bstop,'은/는 없어요!')\n",
        "\n",
        "elif Current_bstop in bstopID.keys():\n",
        "  bstop_code = bstopID.get(Current_bstop)\n",
        "  furl = url +str(bstop_code) +key\n",
        "  response = requests.get(furl)\n",
        "  response_text = response.text\n",
        "  soup = BeautifulSoup(response_text ,\"html.parser\")\n",
        "\n",
        "  for response in soup.find_all(\"item\"):\n",
        "    LineNo = response.find(\"lineNo\").get_text()\n",
        "    arrival_1 = response.find(\"min1\").get_text()\n",
        "    arrival_2 = response.find(\"min2\").get_text()\n",
        "    print(LineNo, arrival_1, arrival_2)\n",
        "\n",
        "\n",
        "\n",
        "\n",
        "\n"
      ],
      "execution_count": 14,
      "outputs": [
        {
          "name": "stdout",
          "output_type": "stream",
          "text": [
            "['올림픽교차로 환승센터', '올림픽교차로 환승센터(급행)', '센텀고등학교(센텀센시빌 방면)', '센텀고등학교(동해선 센텀역 방면)'] 중 하나를 입력해 주세요.\n",
            "올림픽교차로 환승센터\n"
          ]
        }
      ]
    }
  ]
}