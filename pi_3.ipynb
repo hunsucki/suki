{
  "nbformat": 4,
  "nbformat_minor": 0,
  "metadata": {
    "colab": {
      "name": "pi_3.ipynb",
      "provenance": [],
      "authorship_tag": "ABX9TyNBdvS+fOXc5mEQrqTUAqMv",
      "include_colab_link": true
    },
    "kernelspec": {
      "name": "python3",
      "display_name": "Python 3"
    },
    "language_info": {
      "name": "python"
    }
  },
  "cells": [
    {
      "cell_type": "markdown",
      "metadata": {
        "id": "view-in-github",
        "colab_type": "text"
      },
      "source": [
        "<a href=\"https://colab.research.google.com/github/hunsucki/suki/blob/python/pi_3.ipynb\" target=\"_parent\"><img src=\"https://colab.research.google.com/assets/colab-badge.svg\" alt=\"Open In Colab\"/></a>"
      ]
    },
    {
      "cell_type": "code",
      "execution_count": null,
      "metadata": {
        "id": "PQ-HI8jBdLst"
      },
      "outputs": [],
      "source": [
        "import numpy as np\n",
        "import matplotlib.pyplot as plt\n",
        "import time\n",
        "import math\n",
        "start = time.time()\n",
        "s = 50000\n",
        "\n",
        "xs = np.random.random_sample(s)*4-2\n",
        "ys = np.random.random_sample(s)*4-2\n",
        "\n",
        "c = 0\n",
        "plt.figure(figsize=(5, 5))\n",
        "for i in range(0, s):\n",
        "    x, y = xs[i], ys[i]\n",
        "    if x**2 + y**2 <=4:\n",
        "        c+=1\n",
        "        plt.scatter(x, y, c='blue', alpha=0.2)\n",
        "    else:\n",
        "        plt.scatter(x, y, c='red', alpha=0.2)\n",
        "print(c/s*4)\n",
        "print(math.pi)\n",
        "print(\"time:\", time.time() - start)\n",
        "plt.show()"
      ]
    }
  ]
}