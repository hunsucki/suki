{
  "nbformat": 4,
  "nbformat_minor": 0,
  "metadata": {
    "colab": {
      "name": "pi_2.ipynb",
      "provenance": [],
      "authorship_tag": "ABX9TyOWKpS90T5fVjjH0iJpAARA",
      "include_colab_link": true
    },
    "kernelspec": {
      "name": "python3",
      "display_name": "Python 3"
    },
    "language_info": {
      "name": "python"
    }
  },
  "cells": [
    {
      "cell_type": "markdown",
      "metadata": {
        "id": "view-in-github",
        "colab_type": "text"
      },
      "source": [
        "<a href=\"https://colab.research.google.com/github/hunsucki/suki/blob/python/pi_2.ipynb\" target=\"_parent\"><img src=\"https://colab.research.google.com/assets/colab-badge.svg\" alt=\"Open In Colab\"/></a>"
      ]
    },
    {
      "cell_type": "code",
      "execution_count": null,
      "metadata": {
        "id": "NO_UCqe2cp4W"
      },
      "outputs": [],
      "source": [
        "import math\n",
        "import time\n",
        "start = time.time()\n",
        "PI = math.pi\n",
        "LIMIT = .0000001  \n",
        " \n",
        "n = 1; s = 1; a = 4\n",
        " \n",
        "while(1):\n",
        "  s = -s\n",
        "  n = n + 1\n",
        "  a = a + ( s * 4 * ( 1 / (2*n-1) ) )\n",
        " \n",
        "  error = abs( a - PI )  \n",
        "  if( error < LIMIT ):   \n",
        "    print(n, PI, a, error)\n",
        "    break\n",
        "print(\"time:\", time.time() - start)"
      ]
    }
  ]
}