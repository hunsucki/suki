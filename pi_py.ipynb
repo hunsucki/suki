{
  "nbformat": 4,
  "nbformat_minor": 0,
  "metadata": {
    "colab": {
      "name": "pi.py",
      "private_outputs": true,
      "provenance": [],
      "collapsed_sections": [],
      "authorship_tag": "ABX9TyMlEGggBOtre8CNcYIMdlBP",
      "include_colab_link": true
    },
    "kernelspec": {
      "name": "python3",
      "display_name": "Python 3"
    },
    "language_info": {
      "name": "python"
    }
  },
  "cells": [
    {
      "cell_type": "markdown",
      "metadata": {
        "id": "view-in-github",
        "colab_type": "text"
      },
      "source": [
        "<a href=\"https://colab.research.google.com/github/hunsucki/suki/blob/python/pi_py.ipynb\" target=\"_parent\"><img src=\"https://colab.research.google.com/assets/colab-badge.svg\" alt=\"Open In Colab\"/></a>"
      ]
    },
    {
      "cell_type": "code",
      "metadata": {
        "id": "C7aKWmV1nLhf"
      },
      "source": [
        "import matplotlib.pyplot as plt\n",
        "import numpy as np\n",
        "import time\n",
        "\n",
        "fig = plt.figure()\n",
        "ax = fig.add_subplot\n",
        "plt.xlim(0,1)\n",
        "plt.ylim(0,1)\n",
        "T = int(input(\"횟수: \"))\n",
        "count = 0\n",
        "start = time.time()\n",
        "for j in range(1,T):\n",
        "  x = np.random.rand(1)\n",
        "  y = np.random.rand(1)\n",
        "  if ((x-0.5)**2) + ((y-0.5)**2) <= (0.5)**2:\n",
        "    plt.scatter(x, y, c='r', marker='.')\n",
        "    count += 1\n",
        "  else:\n",
        "    plt.scatter(x, y, c='b', marker='.')\n",
        "  plt.title(r'$\\pi$ = %s' % (round(4 *count / j,20)))\n",
        "  plt.draw\n",
        "print(\"time :\", time.time() - start)\n"
      ],
      "execution_count": null,
      "outputs": []
    }
  ]
}