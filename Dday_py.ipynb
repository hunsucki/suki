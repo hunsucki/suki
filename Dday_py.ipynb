{
  "nbformat": 4,
  "nbformat_minor": 0,
  "metadata": {
    "colab": {
      "name": "Dday.py",
      "provenance": [],
      "authorship_tag": "ABX9TyPAElK4WjA10Y0+4S7GUIiE",
      "include_colab_link": true
    },
    "kernelspec": {
      "display_name": "Python 3",
      "name": "python3"
    },
    "language_info": {
      "name": "python"
    }
  },
  "cells": [
    {
      "cell_type": "markdown",
      "metadata": {
        "id": "view-in-github",
        "colab_type": "text"
      },
      "source": [
        "<a href=\"https://colab.research.google.com/github/hunsucki/suki/blob/python/Dday_py.ipynb\" target=\"_parent\"><img src=\"https://colab.research.google.com/assets/colab-badge.svg\" alt=\"Open In Colab\"/></a>"
      ]
    },
    {
      "cell_type": "code",
      "metadata": {
        "colab": {
          "base_uri": "https://localhost:8080/"
        },
        "id": "gHTHOe_nQzk9",
        "outputId": "bdaddd5f-6524-44dc-a96e-28692ea5a980"
      },
      "source": [
        "import datetime\n",
        "today = datetime.date.today()\n",
        "discharge_date = datetime.date(2023,2,22)\n",
        "Dday = discharge_date - today\n",
        "Dday_days = str(Dday.days)\n",
        "print('전역까지: \"'+ Dday_days +'\" 일')"
      ],
      "execution_count": null,
      "outputs": [
        {
          "output_type": "stream",
          "name": "stdout",
          "text": [
            "전역까지: \"451\" 일\n"
          ]
        }
      ]
    }
  ]
}